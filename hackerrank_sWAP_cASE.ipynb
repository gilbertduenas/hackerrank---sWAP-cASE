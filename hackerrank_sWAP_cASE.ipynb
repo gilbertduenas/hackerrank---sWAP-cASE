{
  "nbformat": 4,
  "nbformat_minor": 0,
  "metadata": {
    "colab": {
      "name": "hackerrank - sWAP cASE",
      "provenance": [],
      "authorship_tag": "ABX9TyOxYEbTQEGSd0HeCS6hV082",
      "include_colab_link": true
    },
    "kernelspec": {
      "name": "python3",
      "display_name": "Python 3"
    }
  },
  "cells": [
    {
      "cell_type": "markdown",
      "metadata": {
        "id": "view-in-github",
        "colab_type": "text"
      },
      "source": [
        "<a href=\"https://colab.research.google.com/github/gilbertduenas/hackerrank---sWAP-cASE/blob/master/hackerrank_sWAP_cASE.ipynb\" target=\"_parent\"><img src=\"https://colab.research.google.com/assets/colab-badge.svg\" alt=\"Open In Colab\"/></a>"
      ]
    },
    {
      "cell_type": "markdown",
      "metadata": {
        "id": "FvMNv-zqieEM",
        "colab_type": "text"
      },
      "source": [
        "https://www.hackerrank.com/challenges/swap-case/problem"
      ]
    },
    {
      "cell_type": "code",
      "metadata": {
        "id": "9tnqzUksiazo",
        "colab_type": "code",
        "colab": {}
      },
      "source": [
        "def swap_case(s):\n",
        "    return s.swapcase()"
      ],
      "execution_count": null,
      "outputs": []
    },
    {
      "cell_type": "code",
      "metadata": {
        "id": "a4K0Tw9IjEtH",
        "colab_type": "code",
        "colab": {}
      },
      "source": [
        "test1 = 'I am the VERY MODEL of a modern MajoR GeNeRaL!!'"
      ],
      "execution_count": null,
      "outputs": []
    },
    {
      "cell_type": "code",
      "metadata": {
        "id": "EfkzjYcyjTH8",
        "colab_type": "code",
        "colab": {
          "base_uri": "https://localhost:8080/",
          "height": 36
        },
        "outputId": "2b2111a5-bbb8-4140-da53-78b57305ee70"
      },
      "source": [
        "swap_case(test1)"
      ],
      "execution_count": null,
      "outputs": [
        {
          "output_type": "execute_result",
          "data": {
            "application/vnd.google.colaboratory.intrinsic": {
              "type": "string"
            },
            "text/plain": [
              "'i AM THE very model OF A MODERN mAJOr gEnErAl!!'"
            ]
          },
          "metadata": {
            "tags": []
          },
          "execution_count": 3
        }
      ]
    },
    {
      "cell_type": "code",
      "metadata": {
        "id": "W3vuKJZfjVtI",
        "colab_type": "code",
        "colab": {}
      },
      "source": [
        ""
      ],
      "execution_count": null,
      "outputs": []
    }
  ]
}